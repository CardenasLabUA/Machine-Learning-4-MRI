{
 "cells": [
  {
   "cell_type": "code",
   "execution_count": 2,
   "metadata": {
    "collapsed": false
   },
   "outputs": [],
   "source": [
    "%matplotlib inline  \n",
    "import numpy as np\n",
    "import pandas as pd\n",
    "from pylab import *\n",
    "import os\n",
    "from Txt2DataFrame import *"
   ]
  },
  {
   "cell_type": "code",
   "execution_count": 2,
   "metadata": {
    "collapsed": true
   },
   "outputs": [],
   "source": [
    "main_dir= \"../Study_03_CBA/\""
   ]
  },
  {
   "cell_type": "code",
   "execution_count": 3,
   "metadata": {
    "collapsed": true
   },
   "outputs": [],
   "source": [
    "TE=np.linspace(10,120,120)"
   ]
  },
  {
   "cell_type": "code",
   "execution_count": 4,
   "metadata": {
    "collapsed": false
   },
   "outputs": [],
   "source": [
    "# Create List of T2 MSME data\n",
    "file_names=list()\n",
    "for file in os.listdir(main_dir):\n",
    "    if file.endswith(\"T2.txt\"):\n",
    "        file_names.append(file)"
   ]
  },
  {
   "cell_type": "code",
   "execution_count": 6,
   "metadata": {
    "collapsed": false
   },
   "outputs": [],
   "source": [
    "# Process each T2 file\n",
    "for file_name in file_names:\n",
    "    df=Txt2DataFrame(main_dir,file_name,12)"
   ]
  },
  {
   "cell_type": "code",
   "execution_count": 9,
   "metadata": {
    "collapsed": false
   },
   "outputs": [
    {
     "data": {
      "text/html": [
       "<div>\n",
       "<table border=\"1\" class=\"dataframe\">\n",
       "  <thead>\n",
       "    <tr style=\"text-align: right;\">\n",
       "      <th></th>\n",
       "      <th>ROI_1</th>\n",
       "      <th>ROI_2</th>\n",
       "      <th>ROI_3</th>\n",
       "      <th>ROI_4</th>\n",
       "    </tr>\n",
       "  </thead>\n",
       "  <tbody>\n",
       "    <tr>\n",
       "      <th>0</th>\n",
       "      <td>367892.0</td>\n",
       "      <td>263009.0</td>\n",
       "      <td>270195.0</td>\n",
       "      <td>281861.0</td>\n",
       "    </tr>\n",
       "    <tr>\n",
       "      <th>1</th>\n",
       "      <td>328246.0</td>\n",
       "      <td>201351.0</td>\n",
       "      <td>216117.0</td>\n",
       "      <td>226610.0</td>\n",
       "    </tr>\n",
       "    <tr>\n",
       "      <th>2</th>\n",
       "      <td>260527.0</td>\n",
       "      <td>114746.0</td>\n",
       "      <td>131092.0</td>\n",
       "      <td>135326.0</td>\n",
       "    </tr>\n",
       "    <tr>\n",
       "      <th>3</th>\n",
       "      <td>222104.0</td>\n",
       "      <td>91496.0</td>\n",
       "      <td>106150.0</td>\n",
       "      <td>106749.0</td>\n",
       "    </tr>\n",
       "    <tr>\n",
       "      <th>4</th>\n",
       "      <td>187868.0</td>\n",
       "      <td>56680.0</td>\n",
       "      <td>68406.0</td>\n",
       "      <td>68951.0</td>\n",
       "    </tr>\n",
       "    <tr>\n",
       "      <th>5</th>\n",
       "      <td>173426.0</td>\n",
       "      <td>45618.0</td>\n",
       "      <td>53132.0</td>\n",
       "      <td>55005.0</td>\n",
       "    </tr>\n",
       "    <tr>\n",
       "      <th>6</th>\n",
       "      <td>152167.0</td>\n",
       "      <td>25581.0</td>\n",
       "      <td>39944.0</td>\n",
       "      <td>35087.0</td>\n",
       "    </tr>\n",
       "    <tr>\n",
       "      <th>7</th>\n",
       "      <td>133992.0</td>\n",
       "      <td>25784.0</td>\n",
       "      <td>31413.0</td>\n",
       "      <td>31932.0</td>\n",
       "    </tr>\n",
       "    <tr>\n",
       "      <th>8</th>\n",
       "      <td>128603.0</td>\n",
       "      <td>15702.0</td>\n",
       "      <td>22174.0</td>\n",
       "      <td>21866.0</td>\n",
       "    </tr>\n",
       "    <tr>\n",
       "      <th>9</th>\n",
       "      <td>115221.0</td>\n",
       "      <td>14972.0</td>\n",
       "      <td>20877.0</td>\n",
       "      <td>20103.0</td>\n",
       "    </tr>\n",
       "    <tr>\n",
       "      <th>10</th>\n",
       "      <td>106364.0</td>\n",
       "      <td>13531.0</td>\n",
       "      <td>17704.0</td>\n",
       "      <td>15271.0</td>\n",
       "    </tr>\n",
       "    <tr>\n",
       "      <th>11</th>\n",
       "      <td>99744.0</td>\n",
       "      <td>12820.0</td>\n",
       "      <td>16177.0</td>\n",
       "      <td>16793.0</td>\n",
       "    </tr>\n",
       "  </tbody>\n",
       "</table>\n",
       "</div>"
      ],
      "text/plain": [
       "       ROI_1     ROI_2     ROI_3     ROI_4\n",
       "0   367892.0  263009.0  270195.0  281861.0\n",
       "1   328246.0  201351.0  216117.0  226610.0\n",
       "2   260527.0  114746.0  131092.0  135326.0\n",
       "3   222104.0   91496.0  106150.0  106749.0\n",
       "4   187868.0   56680.0   68406.0   68951.0\n",
       "5   173426.0   45618.0   53132.0   55005.0\n",
       "6   152167.0   25581.0   39944.0   35087.0\n",
       "7   133992.0   25784.0   31413.0   31932.0\n",
       "8   128603.0   15702.0   22174.0   21866.0\n",
       "9   115221.0   14972.0   20877.0   20103.0\n",
       "10  106364.0   13531.0   17704.0   15271.0\n",
       "11   99744.0   12820.0   16177.0   16793.0"
      ]
     },
     "execution_count": 9,
     "metadata": {},
     "output_type": "execute_result"
    }
   ],
   "source": [
    "\n",
    "Txt2DataFrame(main_dir,file_names[0],12)"
   ]
  },
  {
   "cell_type": "code",
   "execution_count": null,
   "metadata": {
    "collapsed": true
   },
   "outputs": [],
   "source": [
    "     \n",
    "        data_frame[\"Mouse\"]=file_name.split(\"_\")[1][1]\n",
    "        data_frame[\"Slice\"]=file_name.split(\"_\")[2][1]\n",
    "        data_frame[\"Year\"]=file_name.split(\"_\")[3]\n",
    "        data_frame[\"Day\"]=float(file_name.split(\"_\")[4])\n",
    "        data_frame[\"Month\"]=float(file_name.split(\"_\")[5])\n",
    "        my_list.append(data_frame)"
   ]
  },
  {
   "cell_type": "code",
   "execution_count": null,
   "metadata": {
    "collapsed": false
   },
   "outputs": [],
   "source": [
    "# Convert .txt to frame\n",
    "file_name = \"Goldenberg_M5_S5_2017_1_6_T2.txt\"\n",
    "data_frame=Txt2DataFrame(main_dir,file_name)"
   ]
  },
  {
   "cell_type": "code",
   "execution_count": null,
   "metadata": {
    "collapsed": false
   },
   "outputs": [],
   "source": [
    "# Echo Time\n",
    "data_frame[\"EchoTimeMsec\"]=TE\n",
    "# Allocate new columns based on file heading\n",
    "data_frame[\"Mouse\"]=file_name.split(\"_\")[1][1]\n",
    "data_frame[\"Slice\"]=file_name.split(\"_\")[2][1]\n",
    "data_frame[\"Year\"]=file_name.split(\"_\")[3]\n",
    "data_frame[\"Month\"]=float(file_name.split(\"_\")[4])\n",
    "data_frame[\"Day\"]=float(file_name.split(\"_\")[5])\n",
    "\n",
    "data_frame.head(2)"
   ]
  },
  {
   "cell_type": "code",
   "execution_count": null,
   "metadata": {
    "collapsed": true
   },
   "outputs": [],
   "source": [
    "data_frame.to_csv(\"Hola.csv\")"
   ]
  },
  {
   "cell_type": "code",
   "execution_count": null,
   "metadata": {
    "collapsed": false
   },
   "outputs": [],
   "source": [
    "df1=data_frame\n"
   ]
  },
  {
   "cell_type": "code",
   "execution_count": null,
   "metadata": {
    "collapsed": false
   },
   "outputs": [],
   "source": [
    "plot(TE,df1.ROI_1.values)"
   ]
  },
  {
   "cell_type": "code",
   "execution_count": null,
   "metadata": {
    "collapsed": false
   },
   "outputs": [],
   "source": [
    "file_name = \"Goldenberg_M3_S2_2017_1_4_T2.txt\"\n",
    "data_frame=Txt2Csv(main_dir,file_name)\n",
    "# Echo Time\n",
    "data_frame[\"EchoTimeMsec\"]=TE\n",
    "# Allocate new columns based on file heading\n",
    "data_frame[\"Mouse\"]=file_name.split(\"_\")[1][1]\n",
    "data_frame[\"Slice\"]=file_name.split(\"_\")[2][1]\n",
    "data_frame[\"Year\"]=file_name.split(\"_\")[3]\n",
    "data_frame[\"Month\"]=float(file_name.split(\"_\")[4])\n",
    "data_frame[\"Day\"]=float(file_name.split(\"_\")[5])\n",
    "\n",
    "data_frame.head(2)"
   ]
  },
  {
   "cell_type": "code",
   "execution_count": null,
   "metadata": {
    "collapsed": true
   },
   "outputs": [],
   "source": [
    "df2=data_frame"
   ]
  },
  {
   "cell_type": "code",
   "execution_count": null,
   "metadata": {
    "collapsed": true
   },
   "outputs": [],
   "source": [
    "DF=pd.concat([df1,df2], axis=0, ignore_index=False)"
   ]
  },
  {
   "cell_type": "code",
   "execution_count": null,
   "metadata": {
    "collapsed": false
   },
   "outputs": [],
   "source": [
    "DF.head(2)"
   ]
  },
  {
   "cell_type": "code",
   "execution_count": null,
   "metadata": {
    "collapsed": false
   },
   "outputs": [],
   "source": [
    "DF.tail(2)"
   ]
  },
  {
   "cell_type": "code",
   "execution_count": null,
   "metadata": {
    "collapsed": false
   },
   "outputs": [],
   "source": [
    "s=DF.ROI_1.values\n",
    "plot(TE,np.reshape(s,(12,2)))"
   ]
  },
  {
   "cell_type": "code",
   "execution_count": null,
   "metadata": {
    "collapsed": false
   },
   "outputs": [],
   "source": [
    "DF.transpose()"
   ]
  },
  {
   "cell_type": "code",
   "execution_count": null,
   "metadata": {
    "collapsed": true
   },
   "outputs": [],
   "source": []
  }
 ],
 "metadata": {
  "anaconda-cloud": {},
  "kernelspec": {
   "display_name": "Python 3",
   "language": "python",
   "name": "python3"
  },
  "language_info": {
   "codemirror_mode": {
    "name": "ipython",
    "version": 3
   },
   "file_extension": ".py",
   "mimetype": "text/x-python",
   "name": "python",
   "nbconvert_exporter": "python",
   "pygments_lexer": "ipython3",
   "version": "3.5.2"
  }
 },
 "nbformat": 4,
 "nbformat_minor": 2
}
