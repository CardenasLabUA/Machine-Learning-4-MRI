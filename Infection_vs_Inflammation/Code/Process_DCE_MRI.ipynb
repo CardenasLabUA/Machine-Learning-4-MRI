{
 "cells": [
  {
   "cell_type": "code",
   "execution_count": 54,
   "metadata": {
    "collapsed": true
   },
   "outputs": [],
   "source": [
    "import numpy as np\n",
    "import pandas as pd\n",
    "from pylab import *\n",
    "%matplotlib inline \n",
    "\n",
    "# Define Function(s)\n",
    "def Txt2DataFrame(file_name):\n",
    "    file_name=dce_list[0]\n",
    "    f1 = open(file_name,'r')\n",
    "    \n",
    "    # Read all lines\n",
    "    all_lines = f1.readlines()\n",
    "    f1.close()\n",
    "    \n",
    "    # Select from Fourht line to the end\n",
    "    first_row_with_data = 3\n",
    "    all_lines=all_lines[first_row_with_data:]\n",
    "    # Calculate number of rows\n",
    "    num_rows=len(all_lines)\n",
    "    f1.close()\n",
    "    num_cols = len( all_lines[0].split()[1::3] )\n",
    "    np_array=np.zeros( (num_rows,num_cols) )\n",
    "    \n",
    "    # allocate line by line\n",
    "    for i in range(num_rows):\n",
    "        l=all_lines[i].split()[1::3]\n",
    "        np_array[i,:]=array(l)\n",
    "    \n",
    "    # normalize\n",
    "    \n",
    "    # Define Column Names\n",
    "    column_names=list()\n",
    "    for i in range(num_cols):\n",
    "        column_names.append( \"ROI_\"+str(i+1))\n",
    "    \n",
    "    # Normalize\n",
    "    for i in range(num_cols):\n",
    "        np_array[:,i]= np_array[:,i]/np_array[0,i]\n",
    "    \n",
    "    df=pd.DataFrame(np_array,columns=column_names)\n",
    "    return df\n",
    "\n",
    "def Process_DCET2ex(df):\n",
    "    \n",
    "    "
   ]
  },
  {
   "cell_type": "code",
   "execution_count": 59,
   "metadata": {
    "collapsed": false
   },
   "outputs": [
    {
     "data": {
      "text/plain": [
       "(32, 4)"
      ]
     },
     "execution_count": 59,
     "metadata": {},
     "output_type": "execute_result"
    }
   ],
   "source": [
    "df.shape"
   ]
  },
  {
   "cell_type": "code",
   "execution_count": 76,
   "metadata": {
    "collapsed": false
   },
   "outputs": [
    {
     "data": {
      "text/plain": [
       "'T2'"
      ]
     },
     "execution_count": 76,
     "metadata": {},
     "output_type": "execute_result"
    }
   ],
   "source": [
    "# Make list of all DCE MRI files\n",
    "dce_list=!ls ../Study_03_CBA/*T2*.txt\n",
    "df=Txt2DataFrame(dce_list[0])\n",
    "dce_list[0].split(\"_\")[-1].split(\".\")[0]"
   ]
  },
  {
   "cell_type": "code",
   "execution_count": 63,
   "metadata": {
    "collapsed": false
   },
   "outputs": [
    {
     "data": {
      "text/plain": [
       "<matplotlib.axes._subplots.AxesSubplot at 0x1138ac6d8>"
      ]
     },
     "execution_count": 63,
     "metadata": {},
     "output_type": "execute_result"
    },
    {
     "data": {
      "image/png": "[encoded data removed]",
      "text/plain": [
       "<matplotlib.figure.Figure at 0x113a38898>"
      ]
     },
     "metadata": {},
     "output_type": "display_data"
    }
   ],
   "source": [
    "df.plot()"
   ]
  },
  {
   "cell_type": "code",
   "execution_count": null,
   "metadata": {
    "collapsed": true
   },
   "outputs": [],
   "source": []
  },
  {
   "cell_type": "code",
   "execution_count": null,
   "metadata": {
    "collapsed": true
   },
   "outputs": [],
   "source": []
  },
  {
   "cell_type": "code",
   "execution_count": 15,
   "metadata": {
    "collapsed": false
   },
   "outputs": [],
   "source": [
    "\n",
    "    for i in range(num_rows):\n",
    "        l=all_lines[i].split()[1::3]\n",
    "        np_array[i,:]=array(l)\n",
    "    # Define Column Names\n",
    "    column_names=list()\n",
    "    for i in range(num_cols):\n",
    "        column_names.append( \"ROI_\"+str(i+1))\n",
    "    df=pd.DataFrame(np_array,columns=column_names)\n",
    "    #df.plot()\n",
    "    return df"
   ]
  },
  {
   "cell_type": "code",
   "execution_count": null,
   "metadata": {
    "collapsed": true
   },
   "outputs": [],
   "source": []
  }
 ],
 "metadata": {
  "anaconda-cloud": {},
  "kernelspec": {
   "display_name": "Python [conda root]",
   "language": "python",
   "name": "conda-root-py"
  },
  "language_info": {
   "codemirror_mode": {
    "name": "ipython",
    "version": 3
   },
   "file_extension": ".py",
   "mimetype": "text/x-python",
   "name": "python",
   "nbconvert_exporter": "python",
   "pygments_lexer": "ipython3",
   "version": "3.5.2"
  }
 },
 "nbformat": 4,
 "nbformat_minor": 2
}
