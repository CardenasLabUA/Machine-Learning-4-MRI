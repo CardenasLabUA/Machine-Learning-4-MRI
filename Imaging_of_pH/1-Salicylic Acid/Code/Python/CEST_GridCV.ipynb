{
 "cells": [
  {
   "cell_type": "code",
   "execution_count": 1,
   "metadata": {
    "collapsed": true
   },
   "outputs": [],
   "source": [
    "import os\n",
    "import pandas as pd\n",
    "import numpy as np\n",
    "import matplotlib.pyplot as plt\n",
    "from decimal import Decimal as deci\n",
    "from sklearn.cross_decomposition import PLSRegression\n",
    "from sklearn.metrics import mean_squared_error\n",
    "from sklearn.metrics import r2_score as rsquare\n",
    "from sklearn.model_selection import train_test_split\n",
    "from scipy.stats import randint as sp_randint\n",
    "from sklearn.model_selection import GridSearchCV as gsv\n",
    "from sklearn.ensemble import RandomForestRegressor as rfr\n",
    "get_ipython().magic('matplotlib inline')\n",
    "plt.rcParams['figure.figsize'] = [10,8]"
   ]
  },
  {
   "cell_type": "code",
   "execution_count": 2,
   "metadata": {
    "collapsed": true
   },
   "outputs": [],
   "source": [
    "cf = rfr(n_jobs=-1)\n",
    "max_f = list(np.arange(1,70,1))\n",
    "max_f.append(\"auto\")\n",
    "cf_params = {\"n_estimators\":list(np.arange(1,25,1)), \"max_features\":max_f}\n",
    "pls = PLSRegression(scale=False)\n",
    "pls_params = {\"n_components\":list(np.arange(1,101,1))}"
   ]
  },
  {
   "cell_type": "code",
   "execution_count": 3,
   "metadata": {
    "collapsed": true
   },
   "outputs": [],
   "source": [
    "csv_path = \"..\\..\\Data\\csv\"\n",
    "here = os.getcwd()\n",
    "os.chdir(csv_path)\n",
    "zspectra = pd.read_csv('fitted_cest.csv', header = None).values.squeeze()\n",
    "diff = pd.read_csv('diff.csv', header = None).values.squeeze()\n",
    "conc = pd.read_csv('conc.csv', header = None).values.squeeze()\n",
    "pH = pd.read_csv('pH.csv', header = None).values.squeeze()\n",
    "concs = pd.read_csv('concs.csv', header = None).values.squeeze()\n",
    "pHs = pd.read_csv('pHs.csv', header = None).values.squeeze()\n",
    "rsq = pd.read_csv('rsq.csv', header= None).values.squeeze()\n",
    "os.chdir(here)"
   ]
  },
  {
   "cell_type": "code",
   "execution_count": 4,
   "metadata": {
    "collapsed": true
   },
   "outputs": [],
   "source": [
    "def mymetric(yexp, ypred):\n",
    "    yexp=yexp.squeeze()\n",
    "    ypred=ypred.squeeze()\n",
    "    d = np.sqrt(mean_squared_error(yexp, ypred))\n",
    "    d = d / np.mean(yexp)\n",
    "    d = 100 * d\n",
    "    return d"
   ]
  },
  {
   "cell_type": "code",
   "execution_count": 5,
   "metadata": {
    "collapsed": true
   },
   "outputs": [],
   "source": [
    "def mystddev(yexp,ypred):\n",
    "    yexp=yexp.squeeze()\n",
    "    ypred=ypred.squeeze()\n",
    "    sy=np.std(ypred)\n",
    "    d = np.sum(yexp - ypred) / np.sqrt(np.sum((yexp - ypred)**2 ))\n",
    "    d = d / np.sqrt(ypred.shape[0])\n",
    "    d = d / np.mean(yexp)\n",
    "    d = 100 * d\n",
    "    sd=np.sqrt(np.square(d)*np.square(sy))\n",
    "    return sd"
   ]
  },
  {
   "cell_type": "code",
   "execution_count": 6,
   "metadata": {
    "collapsed": true
   },
   "outputs": [],
   "source": [
    "X = diff\n",
    "Y = pH\n",
    "Ys = np.sort(pHs)"
   ]
  },
  {
   "cell_type": "code",
   "execution_count": 7,
   "metadata": {},
   "outputs": [
    {
     "ename": "NameError",
     "evalue": "name 'y_hat' is not defined",
     "output_type": "error",
     "traceback": [
      "\u001b[1;31m---------------------------------------------------------------------------\u001b[0m",
      "\u001b[1;31mNameError\u001b[0m                                 Traceback (most recent call last)",
      "\u001b[1;32m<ipython-input-7-495d83d42a2c>\u001b[0m in \u001b[0;36m<module>\u001b[1;34m()\u001b[0m\n\u001b[0;32m      3\u001b[0m \u001b[0mgrid_rfr\u001b[0m\u001b[1;33m.\u001b[0m\u001b[0mfit\u001b[0m\u001b[1;33m(\u001b[0m\u001b[0mX_train\u001b[0m\u001b[1;33m,\u001b[0m\u001b[0my_train\u001b[0m\u001b[1;33m)\u001b[0m\u001b[1;33m\u001b[0m\u001b[0m\n\u001b[0;32m      4\u001b[0m \u001b[0my_hat_rfr\u001b[0m \u001b[1;33m=\u001b[0m \u001b[0mgrid_rfr\u001b[0m\u001b[1;33m.\u001b[0m\u001b[0mpredict\u001b[0m\u001b[1;33m(\u001b[0m\u001b[0mX_test\u001b[0m\u001b[1;33m)\u001b[0m\u001b[1;33m\u001b[0m\u001b[0m\n\u001b[1;32m----> 5\u001b[1;33m \u001b[0mmymetric\u001b[0m\u001b[1;33m(\u001b[0m\u001b[0my_test\u001b[0m\u001b[1;33m,\u001b[0m\u001b[0my_hat\u001b[0m\u001b[1;33m)\u001b[0m\u001b[1;33m\u001b[0m\u001b[0m\n\u001b[0m",
      "\u001b[1;31mNameError\u001b[0m: name 'y_hat' is not defined"
     ]
    }
   ],
   "source": [
    "X_train, X_test, y_train, y_test = train_test_split( X, Y, test_size=0.1, random_state=42)\n",
    "grid_rfr = gsv(cf,cf_params,n_jobs = -1)\n",
    "grid_rfr.fit(X_train,y_train)\n",
    "y_hat_rfr = grid_rfr.predict(X_test)\n",
    "mymetric(y_test,y_hat_rfr)"
   ]
  },
  {
   "cell_type": "code",
   "execution_count": 9,
   "metadata": {},
   "outputs": [
    {
     "data": {
      "text/plain": [
       "RandomForestRegressor(bootstrap=True, criterion='mse', max_depth=None,\n",
       "           max_features=34, max_leaf_nodes=None, min_impurity_split=1e-07,\n",
       "           min_samples_leaf=1, min_samples_split=2,\n",
       "           min_weight_fraction_leaf=0.0, n_estimators=22, n_jobs=-1,\n",
       "           oob_score=False, random_state=None, verbose=0, warm_start=False)"
      ]
     },
     "execution_count": 9,
     "metadata": {},
     "output_type": "execute_result"
    }
   ],
   "source": [
    "grid_rfr.best_estimator_"
   ]
  },
  {
   "cell_type": "code",
   "execution_count": 10,
   "metadata": {},
   "outputs": [
    {
     "data": {
      "text/plain": [
       "4.3614817257848344"
      ]
     },
     "execution_count": 10,
     "metadata": {},
     "output_type": "execute_result"
    }
   ],
   "source": [
    "grid_pls = gsv(pls,pls_params,n_jobs = -1)\n",
    "grid_pls.fit(X_train,y_train)\n",
    "y_hat_pls = grid_pls.predict(X_test)\n",
    "mymetric(y_test,y_hat_pls)"
   ]
  },
  {
   "cell_type": "code",
   "execution_count": 11,
   "metadata": {},
   "outputs": [
    {
     "data": {
      "text/plain": [
       "PLSRegression(copy=True, max_iter=500, n_components=30, scale=False,\n",
       "       tol=1e-06)"
      ]
     },
     "execution_count": 11,
     "metadata": {},
     "output_type": "execute_result"
    }
   ],
   "source": [
    "grid_pls.best_estimator_"
   ]
  },
  {
   "cell_type": "code",
   "execution_count": null,
   "metadata": {
    "collapsed": true
   },
   "outputs": [],
   "source": []
  }
 ],
 "metadata": {
  "kernelspec": {
   "display_name": "Python 3",
   "language": "python",
   "name": "python3"
  },
  "language_info": {
   "codemirror_mode": {
    "name": "ipython",
    "version": 3
   },
   "file_extension": ".py",
   "mimetype": "text/x-python",
   "name": "python",
   "nbconvert_exporter": "python",
   "pygments_lexer": "ipython3",
   "version": "3.6.1"
  }
 },
 "nbformat": 4,
 "nbformat_minor": 2
}
